{
 "cells": [
  {
   "cell_type": "code",
   "execution_count": null,
   "id": "7ec88253-7c01-4068-8a41-da7a8d832111",
   "metadata": {},
   "outputs": [],
   "source": []
  },
  {
   "cell_type": "markdown",
   "id": "011933c5-82bc-47bb-8581-901ff75eb09a",
   "metadata": {},
   "source": [
    "## Creating Interface for User\n",
    "> For this project I chose to use Jupyter Widgets, more information can be found [HERE](https://towardsdatascience.com/bring-your-jupyter-notebook-to-life-with-interactive-widgets-bc12e03f0916)"
   ]
  },
  {
   "cell_type": "code",
   "execution_count": 37,
   "id": "8e0b2f7d-2512-4753-b9ed-a16173cf1188",
   "metadata": {
    "collapsed": true,
    "jupyter": {
     "outputs_hidden": true
    },
    "tags": []
   },
   "outputs": [
    {
     "name": "stderr",
     "output_type": "stream",
     "text": [
      "DEPRECATION: Loading egg at c:\\python3\\lib\\site-packages\\vboxapi-1.0-py3.11.egg is deprecated. pip 23.3 will enforce this behaviour change. A possible replacement is to use pip for package installation..\n"
     ]
    },
    {
     "name": "stdout",
     "output_type": "stream",
     "text": [
      "Requirement already satisfied: ipywidgets in c:\\python3\\lib\\site-packages (8.0.2)\n",
      "Requirement already satisfied: ipykernel>=4.5.1 in c:\\python3\\lib\\site-packages (from ipywidgets) (6.18.0)\n",
      "Requirement already satisfied: ipython>=6.1.0 in c:\\python3\\lib\\site-packages (from ipywidgets) (8.6.0)\n",
      "Requirement already satisfied: traitlets>=4.3.1 in c:\\python3\\lib\\site-packages (from ipywidgets) (5.5.0)\n",
      "Requirement already satisfied: widgetsnbextension~=4.0 in c:\\python3\\lib\\site-packages (from ipywidgets) (4.0.3)\n",
      "Requirement already satisfied: jupyterlab-widgets~=3.0 in c:\\python3\\lib\\site-packages (from ipywidgets) (3.0.3)\n",
      "Requirement already satisfied: comm>=0.1 in c:\\python3\\lib\\site-packages (from ipykernel>=4.5.1->ipywidgets) (0.1.0)\n",
      "Requirement already satisfied: debugpy>=1.0 in c:\\python3\\lib\\site-packages (from ipykernel>=4.5.1->ipywidgets) (1.6.3)\n",
      "Requirement already satisfied: jupyter-client>=6.1.12 in c:\\python3\\lib\\site-packages (from ipykernel>=4.5.1->ipywidgets) (7.4.7)\n",
      "Requirement already satisfied: matplotlib-inline>=0.1 in c:\\python3\\lib\\site-packages (from ipykernel>=4.5.1->ipywidgets) (0.1.6)\n",
      "Requirement already satisfied: nest-asyncio in c:\\python3\\lib\\site-packages (from ipykernel>=4.5.1->ipywidgets) (1.5.6)\n",
      "Requirement already satisfied: packaging in c:\\python3\\lib\\site-packages (from ipykernel>=4.5.1->ipywidgets) (21.3)\n",
      "Requirement already satisfied: psutil in c:\\python3\\lib\\site-packages (from ipykernel>=4.5.1->ipywidgets) (5.9.4)\n",
      "Requirement already satisfied: pyzmq>=17 in c:\\python3\\lib\\site-packages (from ipykernel>=4.5.1->ipywidgets) (24.0.1)\n",
      "Requirement already satisfied: tornado>=6.1 in c:\\python3\\lib\\site-packages (from ipykernel>=4.5.1->ipywidgets) (6.2)\n",
      "Requirement already satisfied: backcall in c:\\python3\\lib\\site-packages (from ipython>=6.1.0->ipywidgets) (0.2.0)\n",
      "Requirement already satisfied: decorator in c:\\python3\\lib\\site-packages (from ipython>=6.1.0->ipywidgets) (5.1.1)\n",
      "Requirement already satisfied: jedi>=0.16 in c:\\python3\\lib\\site-packages (from ipython>=6.1.0->ipywidgets) (0.18.1)\n",
      "Requirement already satisfied: pickleshare in c:\\python3\\lib\\site-packages (from ipython>=6.1.0->ipywidgets) (0.7.5)\n",
      "Requirement already satisfied: prompt-toolkit<3.1.0,>3.0.1 in c:\\python3\\lib\\site-packages (from ipython>=6.1.0->ipywidgets) (3.0.33)\n",
      "Requirement already satisfied: pygments>=2.4.0 in c:\\python3\\lib\\site-packages (from ipython>=6.1.0->ipywidgets) (2.13.0)\n",
      "Requirement already satisfied: stack-data in c:\\python3\\lib\\site-packages (from ipython>=6.1.0->ipywidgets) (0.6.1)\n",
      "Requirement already satisfied: colorama in c:\\python3\\lib\\site-packages (from ipython>=6.1.0->ipywidgets) (0.4.6)\n",
      "Requirement already satisfied: parso<0.9.0,>=0.8.0 in c:\\python3\\lib\\site-packages (from jedi>=0.16->ipython>=6.1.0->ipywidgets) (0.8.3)\n",
      "Requirement already satisfied: entrypoints in c:\\python3\\lib\\site-packages (from jupyter-client>=6.1.12->ipykernel>=4.5.1->ipywidgets) (0.4)\n",
      "Requirement already satisfied: jupyter-core>=4.9.2 in c:\\python3\\lib\\site-packages (from jupyter-client>=6.1.12->ipykernel>=4.5.1->ipywidgets) (5.0.0)\n",
      "Requirement already satisfied: python-dateutil>=2.8.2 in c:\\python3\\lib\\site-packages (from jupyter-client>=6.1.12->ipykernel>=4.5.1->ipywidgets) (2.8.2)\n",
      "Requirement already satisfied: wcwidth in c:\\python3\\lib\\site-packages (from prompt-toolkit<3.1.0,>3.0.1->ipython>=6.1.0->ipywidgets) (0.2.5)\n",
      "Requirement already satisfied: pyparsing!=3.0.5,>=2.0.2 in c:\\python3\\lib\\site-packages (from packaging->ipykernel>=4.5.1->ipywidgets) (3.0.9)\n",
      "Requirement already satisfied: executing>=1.2.0 in c:\\python3\\lib\\site-packages (from stack-data->ipython>=6.1.0->ipywidgets) (1.2.0)\n",
      "Requirement already satisfied: asttokens>=2.1.0 in c:\\python3\\lib\\site-packages (from stack-data->ipython>=6.1.0->ipywidgets) (2.1.0)\n",
      "Requirement already satisfied: pure-eval in c:\\python3\\lib\\site-packages (from stack-data->ipython>=6.1.0->ipywidgets) (0.2.2)\n",
      "Requirement already satisfied: six in c:\\python3\\lib\\site-packages (from asttokens>=2.1.0->stack-data->ipython>=6.1.0->ipywidgets) (1.16.0)\n",
      "Requirement already satisfied: platformdirs in c:\\users\\chris\\appdata\\roaming\\python\\python311\\site-packages (from jupyter-core>=4.9.2->jupyter-client>=6.1.12->ipykernel>=4.5.1->ipywidgets) (3.5.1)\n",
      "Requirement already satisfied: pywin32>=1.0 in c:\\python3\\lib\\site-packages (from jupyter-core>=4.9.2->jupyter-client>=6.1.12->ipykernel>=4.5.1->ipywidgets) (305)\n"
     ]
    }
   ],
   "source": [
    "# Install ipywidgets\n",
    "#!pip install ipywidgets"
   ]
  },
  {
   "cell_type": "code",
   "execution_count": 39,
   "id": "11d88c98-aac1-4ff8-b55a-47f55b125b21",
   "metadata": {},
   "outputs": [
    {
     "name": "stderr",
     "output_type": "stream",
     "text": [
      "Enabling notebook extension jupyter-js-widgets/extension...\n",
      "      - Validating: ok\n"
     ]
    }
   ],
   "source": [
    "# Enable Jupyter Extension\n",
    "# ! jupyter nbextension enable --py widgetsnbextension"
   ]
  },
  {
   "cell_type": "code",
   "execution_count": null,
   "id": "dbdb6a3f-fd79-47cf-af94-7c1c6fb7d527",
   "metadata": {},
   "outputs": [],
   "source": [
    "# Import ipywidgets\n",
    "import ipywidgets as widgets\n",
    "from IPython.display import display"
   ]
  },
  {
   "cell_type": "markdown",
   "id": "5c47d18d-786f-4c38-9569-c7f0e0d80327",
   "metadata": {},
   "source": [
    "# Down Payment Input"
   ]
  },
  {
   "cell_type": "code",
   "execution_count": 65,
   "id": "f830c071-8a44-4372-97a8-afe5c42719a1",
   "metadata": {},
   "outputs": [
    {
     "data": {
      "application/vnd.jupyter.widget-view+json": {
       "model_id": "",
       "version_major": 2,
       "version_minor": 0
      },
      "text/plain": [
       "FloatSlider(value=63.84000000000001, description='Set Value:', step=0.01)"
      ]
     },
     "metadata": {},
     "output_type": "display_data"
    }
   ],
   "source": [
    "import ipywidgets as widgets\n",
    "\n",
    "# Create a variable\n",
    "down_payment_input = 0.59  # Represented as a percentage\n",
    "\n",
    "# Create a FloatSlider widget\n",
    "slider = widgets.FloatSlider(\n",
    "    min=0,\n",
    "    max=100,\n",
    "    step=0.01,  # Use a small step for better precision\n",
    "    description='Set Value:',\n",
    "    value=variable_value * 100  # Convert percentage to integer for the slider\n",
    ")\n",
    "\n",
    "# Define a function to update the variable value when the slider is changed\n",
    "def update_variable_value(change):\n",
    "    global variable_value\n",
    "    variable_value = change.new / 100  # Convert slider value back to percentage\n",
    "\n",
    "# Attach the update function to the slider's 'value' attribute\n",
    "slider.observe(update_variable_value, names='value')\n",
    "\n",
    "# Display the slider widget\n",
    "display(slider)\n"
   ]
  },
  {
   "cell_type": "code",
   "execution_count": 67,
   "id": "a489c7e0-9db0-4272-b947-8f4ae20e8c08",
   "metadata": {},
   "outputs": [
    {
     "name": "stdout",
     "output_type": "stream",
     "text": [
      "0.6384000000000001\n"
     ]
    }
   ],
   "source": [
    "print(variable_value)"
   ]
  },
  {
   "cell_type": "markdown",
   "id": "388777a6-cd4e-4a5b-8f44-0d5a1a183244",
   "metadata": {},
   "source": [
    "# Address Input"
   ]
  },
  {
   "cell_type": "code",
   "execution_count": 68,
   "id": "9e343e16-a579-4d60-b81e-75a41ddbb42e",
   "metadata": {},
   "outputs": [
    {
     "data": {
      "application/vnd.jupyter.widget-view+json": {
       "model_id": "",
       "version_major": 2,
       "version_minor": 0
      },
      "text/plain": [
       "Text(value='', description='Input Address Here:')"
      ]
     },
     "metadata": {},
     "output_type": "display_data"
    }
   ],
   "source": [
    "address_input = widgets.Text(\n",
    "    description='Input Address Here:'\n",
    ")\n",
    "\n",
    "# Define a variable to store the address\n",
    "residential_address = \"\"\n",
    "\n",
    "# Define a function to update the residential_address variable when the input changes\n",
    "def update_address_value(change):\n",
    "    global residential_address\n",
    "    residential_address = change.new\n",
    "\n",
    "# Attach the update function to the Text input's 'value' attribute\n",
    "address_input.observe(update_address_value, names='value')\n",
    "\n",
    "# Display the Text input widget\n",
    "display(address_input)"
   ]
  },
  {
   "cell_type": "code",
   "execution_count": null,
   "id": "7ec1aa09-b2e3-4539-b05a-af27f090c6e0",
   "metadata": {},
   "outputs": [],
   "source": []
  },
  {
   "cell_type": "code",
   "execution_count": 69,
   "id": "1a48b2f1-0342-481c-bb16-b155a7f67bc2",
   "metadata": {},
   "outputs": [
    {
     "data": {
      "application/vnd.jupyter.widget-view+json": {
       "model_id": "",
       "version_major": 2,
       "version_minor": 0
      },
      "text/plain": [
       "VBox(children=(HTML(value='<h2>Dashboard</h2>'), HTML(value='<p>Enter a residential address:</p>'), Text(value…"
      ]
     },
     "metadata": {},
     "output_type": "display_data"
    }
   ],
   "source": [
    "import ipywidgets as widgets\n",
    "from IPython.display import display\n",
    "\n",
    "# Create a Text input widget for the address\n",
    "address_input = widgets.Text(\n",
    "    description='Input Address Here:'\n",
    ")\n",
    "\n",
    "# Create an IntSlider widget for a numeric variable\n",
    "numeric_slider = widgets.IntSlider(\n",
    "    min=0,\n",
    "    max=100,\n",
    "    step=1,\n",
    "    description='Numeric Slider:',\n",
    "    value=40\n",
    ")\n",
    "\n",
    "# Define a function to run the code and display the output\n",
    "def run_code(address, numeric_value):\n",
    "    # Your code goes here\n",
    "    print(\"Address:\", address)\n",
    "    print(\"Numeric Value:\", numeric_value)\n",
    "\n",
    "# Create a button to run the code\n",
    "button = widgets.Button(description='Run Code')\n",
    "\n",
    "# Define a function to handle button click event\n",
    "def on_button_click(b):\n",
    "    run_code(address_input.value, numeric_slider.value)\n",
    "\n",
    "# Attach the button click event handler\n",
    "button.on_click(on_button_click)\n",
    "\n",
    "# Create a VBox to organize the widgets vertically\n",
    "dashboard = widgets.VBox([\n",
    "    widgets.HTML(\"<h2>Dashboard</h2>\"),\n",
    "    widgets.HTML(\"<p>Enter a residential address:</p>\"),\n",
    "    address_input,\n",
    "    widgets.HTML(\"<p>Set a numeric value:</p>\"),\n",
    "    numeric_slider,\n",
    "    button\n",
    "])\n",
    "\n",
    "# Display the dashboard\n",
    "display(dashboard)\n"
   ]
  },
  {
   "cell_type": "code",
   "execution_count": null,
   "id": "059810c2-5ca9-41f6-8dee-485c266d5871",
   "metadata": {},
   "outputs": [],
   "source": []
  }
 ],
 "metadata": {
  "kernelspec": {
   "display_name": "Python 3 (ipykernel)",
   "language": "python",
   "name": "python3"
  },
  "language_info": {
   "codemirror_mode": {
    "name": "ipython",
    "version": 3
   },
   "file_extension": ".py",
   "mimetype": "text/x-python",
   "name": "python",
   "nbconvert_exporter": "python",
   "pygments_lexer": "ipython3",
   "version": "3.11.3"
  }
 },
 "nbformat": 4,
 "nbformat_minor": 5
}
