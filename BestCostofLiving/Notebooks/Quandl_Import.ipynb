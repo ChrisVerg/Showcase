{
 "cells": [
  {
   "cell_type": "markdown",
   "id": "51b2595b-1abd-4355-bdfc-7fa104c25192",
   "metadata": {},
   "source": [
    "Title"
   ]
  },
  {
   "cell_type": "code",
   "execution_count": 1,
   "id": "3f175e36-0b77-41a6-95ad-c2ac1b6d4e60",
   "metadata": {},
   "outputs": [],
   "source": [
    "import quandl as quandl\n",
    "import numpy as np\n",
    "import pandas as pd"
   ]
  },
  {
   "cell_type": "code",
   "execution_count": 2,
   "id": "56c9192c-7eef-466d-b12c-ec2ab2b94f5d",
   "metadata": {},
   "outputs": [],
   "source": [
    "quandl.ApiConfig.api_key = \"5fiE7R9z_P59igpTRPUy\""
   ]
  },
  {
   "cell_type": "code",
   "execution_count": 3,
   "id": "eee28f2d-aadf-4536-a568-19574346daa1",
   "metadata": {},
   "outputs": [],
   "source": [
    "mydata = quandl.get(\"USTREASURY/BILLRATES\")"
   ]
  },
  {
   "cell_type": "code",
   "execution_count": 4,
   "id": "237af63b-0c88-4a5d-bad4-d60eee5d6853",
   "metadata": {},
   "outputs": [],
   "source": [
    "mydata.reset_index(inplace=True)"
   ]
  },
  {
   "cell_type": "code",
   "execution_count": 5,
   "id": "4cd31364-2dee-4916-8c71-ac7870b8e341",
   "metadata": {},
   "outputs": [],
   "source": [
    "from datetime import datetime"
   ]
  },
  {
   "cell_type": "code",
   "execution_count": 6,
   "id": "e16fc4cc-bcc5-4731-b9a3-2ffd20e8798c",
   "metadata": {},
   "outputs": [],
   "source": [
    "most_recent_date = mydata['Date'].max().date()\n",
    "filtered_data = mydata[mydata['Date'].dt.date == most_recent_date]\n"
   ]
  },
  {
   "cell_type": "code",
   "execution_count": 7,
   "id": "fa45c978-5787-4f6e-b0f8-a287f8e59345",
   "metadata": {},
   "outputs": [
    {
     "data": {
      "text/html": [
       "<div>\n",
       "<style scoped>\n",
       "    .dataframe tbody tr th:only-of-type {\n",
       "        vertical-align: middle;\n",
       "    }\n",
       "\n",
       "    .dataframe tbody tr th {\n",
       "        vertical-align: top;\n",
       "    }\n",
       "\n",
       "    .dataframe thead th {\n",
       "        text-align: right;\n",
       "    }\n",
       "</style>\n",
       "<table border=\"1\" class=\"dataframe\">\n",
       "  <thead>\n",
       "    <tr style=\"text-align: right;\">\n",
       "      <th></th>\n",
       "      <th>Date</th>\n",
       "      <th>4 Wk Bank Discount Rate</th>\n",
       "      <th>4 Wk Coupon Equiv</th>\n",
       "      <th>8 Wk Bank Discount Rate</th>\n",
       "      <th>8 Wk Coupon Equiv</th>\n",
       "      <th>13 Wk Bank Discount Rate</th>\n",
       "      <th>13 Wk Coupon Equiv</th>\n",
       "      <th>26 Wk Bank Discount Rate</th>\n",
       "      <th>26 Wk Coupon Equiv</th>\n",
       "      <th>52 Wk Bank Discount Rate</th>\n",
       "      <th>52 Wk Coupon Equiv</th>\n",
       "    </tr>\n",
       "  </thead>\n",
       "  <tbody>\n",
       "    <tr>\n",
       "      <th>5391</th>\n",
       "      <td>2023-07-19</td>\n",
       "      <td>5.17</td>\n",
       "      <td>5.28</td>\n",
       "      <td>5.25</td>\n",
       "      <td>5.38</td>\n",
       "      <td>5.26</td>\n",
       "      <td>5.42</td>\n",
       "      <td>5.25</td>\n",
       "      <td>5.48</td>\n",
       "      <td>5.04</td>\n",
       "      <td>5.32</td>\n",
       "    </tr>\n",
       "  </tbody>\n",
       "</table>\n",
       "</div>"
      ],
      "text/plain": [
       "           Date  4 Wk Bank Discount Rate  4 Wk Coupon Equiv   \n",
       "5391 2023-07-19                     5.17               5.28  \\\n",
       "\n",
       "      8 Wk Bank Discount Rate  8 Wk Coupon Equiv  13 Wk Bank Discount Rate   \n",
       "5391                     5.25               5.38                      5.26  \\\n",
       "\n",
       "      13 Wk Coupon Equiv  26 Wk Bank Discount Rate  26 Wk Coupon Equiv   \n",
       "5391                5.42                      5.25                5.48  \\\n",
       "\n",
       "      52 Wk Bank Discount Rate  52 Wk Coupon Equiv  \n",
       "5391                      5.04                5.32  "
      ]
     },
     "execution_count": 7,
     "metadata": {},
     "output_type": "execute_result"
    }
   ],
   "source": [
    "filtered_data"
   ]
  },
  {
   "cell_type": "code",
   "execution_count": null,
   "id": "68b0fd9a-5222-40ad-b91f-d7513da40156",
   "metadata": {},
   "outputs": [],
   "source": []
  }
 ],
 "metadata": {
  "kernelspec": {
   "display_name": "Python 3 (ipykernel)",
   "language": "python",
   "name": "python3"
  },
  "language_info": {
   "codemirror_mode": {
    "name": "ipython",
    "version": 3
   },
   "file_extension": ".py",
   "mimetype": "text/x-python",
   "name": "python",
   "nbconvert_exporter": "python",
   "pygments_lexer": "ipython3",
   "version": "3.11.3"
  }
 },
 "nbformat": 4,
 "nbformat_minor": 5
}
